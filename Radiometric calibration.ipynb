{
 "cells": [
  {
   "cell_type": "code",
   "execution_count": 52,
   "metadata": {},
   "outputs": [],
   "source": [
    "import numpy as np\n",
    "import cv2\n",
    "import glob\n",
    "import matplotlib.pyplot as plt\n",
    "from sklearn.linear_model import LinearRegression\n",
    "%matplotlib inline"
   ]
  },
  {
   "cell_type": "code",
   "execution_count": 3,
   "metadata": {},
   "outputs": [],
   "source": [
    "images = np.array([cv2.imread(file) for file in glob.glob(\"B:/study/homework/cmpe264/Project/CE264HDR/RadiometryCalibration/CalibImages/*.JPG\")])"
   ]
  },
  {
   "cell_type": "code",
   "execution_count": 4,
   "metadata": {},
   "outputs": [
    {
     "data": {
      "text/plain": [
       "(14, 3264, 4928, 3)"
      ]
     },
     "execution_count": 4,
     "metadata": {},
     "output_type": "execute_result"
    }
   ],
   "source": [
    "images.shape"
   ]
  },
  {
   "cell_type": "code",
   "execution_count": 65,
   "metadata": {},
   "outputs": [],
   "source": [
    "def crop_center(img):\n",
    "    y,x,z = img.shape\n",
    "    startx = x//3\n",
    "    starty = y//3   \n",
    "    return img[starty:2*starty,startx:2*startx,:]"
   ]
  },
  {
   "cell_type": "code",
   "execution_count": 66,
   "metadata": {},
   "outputs": [
    {
     "data": {
      "text/plain": [
       "(14, 1088, 1642, 3)"
      ]
     },
     "execution_count": 66,
     "metadata": {},
     "output_type": "execute_result"
    }
   ],
   "source": [
    "cropImages = np.array([crop_center(images[i,:,:,:]) for i in range(0,images.shape[0])])\n",
    "cropImages.shape"
   ]
  },
  {
   "cell_type": "code",
   "execution_count": 55,
   "metadata": {},
   "outputs": [
    {
     "data": {
      "text/plain": [
       "array([[5.32446355, 5.32243432, 5.32341712],\n",
       "       [5.31089502, 5.32306431, 5.31575   ],\n",
       "       [5.32929006, 5.32461782, 5.31989686],\n",
       "       [5.31507776, 5.31404006, 5.31772495],\n",
       "       [5.31953702, 5.3244368 , 5.32729149],\n",
       "       [5.32633791, 5.30917008, 5.32116122],\n",
       "       [5.32410541, 5.32664918, 5.33158722],\n",
       "       [5.33623352, 5.3061633 , 5.3165134 ],\n",
       "       [5.32466101, 5.31994052, 5.31089714],\n",
       "       [5.32386031, 5.32015875, 5.32240538],\n",
       "       [5.32746111, 5.31491375, 5.31954742],\n",
       "       [5.31361205, 5.3251625 , 5.31168606],\n",
       "       [5.32929616, 5.32017538, 5.30398399],\n",
       "       [5.32621908, 5.32041218, 5.32576189]])"
      ]
     },
     "execution_count": 55,
     "metadata": {},
     "output_type": "execute_result"
    }
   ],
   "source": [
    "B = np.array([0,0,0])\n",
    "for i in range(0,images.shape[0]):\n",
    "    rChannel = cropImages[i,:,:,0]\n",
    "    gChannel = cropImages[i,:,:,1]\n",
    "    bChannel = cropImages[i,:,:,2]\n",
    "    sumR = np.log10(sum(sum(rChannel)))\n",
    "    sumG = np.log10(sum(sum(gChannel)))\n",
    "    sumB = np.log10(sum(sum(bChannel)))\n",
    "    B = np.vstack([B,[sumR,sumG,sumB]])\n",
    "B = B[1:]\n",
    "B"
   ]
  },
  {
   "cell_type": "code",
   "execution_count": 56,
   "metadata": {},
   "outputs": [],
   "source": [
    "T = np.array([1/2000,1/1500,1/1000,1/750,1/500,1/350,1/250,1/180,1/125,1/90,1/60,1/45,1/30,1/20])\n",
    "T = np.log10(T)\n",
    "#T.reshape(-1,1)"
   ]
  },
  {
   "cell_type": "code",
   "execution_count": 57,
   "metadata": {},
   "outputs": [
    {
     "data": {
      "text/plain": [
       "array([-3.30103   , -3.17609126, -3.        , -2.87506126, -2.69897   ,\n",
       "       -2.54406804, -2.39794001, -2.25527251, -2.09691001, -1.95424251,\n",
       "       -1.77815125, -1.65321251, -1.47712125, -1.30103   ])"
      ]
     },
     "execution_count": 57,
     "metadata": {},
     "output_type": "execute_result"
    }
   ],
   "source": [
    "alpha=.01\n",
    "y = B[:,0]# np.dot(B, np.array([1])) + alpha\n",
    "#y.reshape(-1, 1) \n",
    "T"
   ]
  },
  {
   "cell_type": "code",
   "execution_count": 58,
   "metadata": {},
   "outputs": [],
   "source": [
    "def slope_intercept(x_val,y_val):\n",
    "    x = np.array(x_val)\n",
    "    y = np.array(y_val)\n",
    "    m = (((np.mean(x)*np.mean(y)) - np.mean(x*y))/((np.mean(x) *np.mean(x)) - np.mean(x*x)))\n",
    "    #m = round(m,2)\n",
    "    b = (np.mean(y) - np.mean(x)*m)\n",
    "    #b = round(b,2)\n",
    "    return m,b\n"
   ]
  },
  {
   "cell_type": "code",
   "execution_count": 59,
   "metadata": {},
   "outputs": [],
   "source": [
    "regr =  slope_intercept(T,B[:,0])\n",
    "regg =  slope_intercept(T,B[:,1])\n",
    "regb =  slope_intercept(T,B[:,2])\n"
   ]
  },
  {
   "cell_type": "code",
   "execution_count": 60,
   "metadata": {},
   "outputs": [
    {
     "data": {
      "text/plain": [
       "(0.00296436577993597, 5.3305299150434315)"
      ]
     },
     "execution_count": 60,
     "metadata": {},
     "output_type": "execute_result"
    }
   ],
   "source": [
    "regr"
   ]
  },
  {
   "cell_type": "code",
   "execution_count": 61,
   "metadata": {},
   "outputs": [
    {
     "data": {
      "text/plain": [
       "(-0.00079230272405954, 5.31754156479072)"
      ]
     },
     "execution_count": 61,
     "metadata": {},
     "output_type": "execute_result"
    }
   ],
   "source": [
    "regg"
   ]
  },
  {
   "cell_type": "code",
   "execution_count": 62,
   "metadata": {},
   "outputs": [
    {
     "data": {
      "text/plain": [
       "(-0.0032071303740366804, 5.311668800397656)"
      ]
     },
     "execution_count": 62,
     "metadata": {},
     "output_type": "execute_result"
    }
   ],
   "source": [
    "regb"
   ]
  },
  {
   "cell_type": "code",
   "execution_count": 46,
   "metadata": {},
   "outputs": [
    {
     "data": {
      "image/png": "[encoded data removed]",
      "text/plain": [
       "<Figure size 432x288 with 1 Axes>"
      ]
     },
     "metadata": {},
     "output_type": "display_data"
    }
   ],
   "source": [
    "plt.scatter(T,B[:,2])\n",
    "plt.show()"
   ]
  },
  {
   "cell_type": "code",
   "execution_count": null,
   "metadata": {},
   "outputs": [],
   "source": []
  }
 ],
 "metadata": {
  "kernelspec": {
   "display_name": "Python 3",
   "language": "python",
   "name": "python3"
  },
  "language_info": {
   "codemirror_mode": {
    "name": "ipython",
    "version": 3
   },
   "file_extension": ".py",
   "mimetype": "text/x-python",
   "name": "python",
   "nbconvert_exporter": "python",
   "pygments_lexer": "ipython3",
   "version": "3.6.4"
  }
 },
 "nbformat": 4,
 "nbformat_minor": 2
}
